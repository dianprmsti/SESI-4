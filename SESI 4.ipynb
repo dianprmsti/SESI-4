{
 "cells": [
  {
   "cell_type": "code",
   "execution_count": 1,
   "id": "a82bb434-b0f8-4d45-abdc-25bf775aac76",
   "metadata": {},
   "outputs": [
    {
     "name": "stdout",
     "output_type": "stream",
     "text": [
      "masukan angka1 =3\n",
      "masukan operator =x\n",
      "masukan angka2 =3\n",
      "hasil dari 3 x 3 adalah 9\n"
     ]
    }
   ],
   "source": [
    "# quiz\n",
    "\n",
    "def calc(a,b,c):\n",
    "    if (a.isnumeric()==True) and (c.isnumeric()==True):\n",
    "        a = int(a)\n",
    "        c = int(c)\n",
    "        if b == 'x':\n",
    "            print('hasil dari', a,b,c, 'adalah', a*c)\n",
    "        elif b == '+':\n",
    "            print('hasil dari', a,b,c, 'adalah', a+c)\n",
    "        elif b == ':':\n",
    "            print('hasil dari', a,b,c, 'adalah', a/c)\n",
    "        elif b == '-':\n",
    "            print('hasil dari', a,b,c, 'adalah', a-c)\n",
    "        elif b == '^':\n",
    "            print('hasil dari', a,b,c, 'adalah', a**c)\n",
    "        else:\n",
    "            print('operator', b, 'tidak ditemukan')\n",
    "    else:\n",
    "        print('salah')\n",
    "        \n",
    "a=(input('masukan angka1 ='))\n",
    "b=(input('masukan operator ='))\n",
    "c=(input('masukan angka2 ='))\n",
    "\n",
    "calc(a,b,c)"
   ]
  },
  {
   "cell_type": "code",
   "execution_count": 2,
   "id": "0fea5d20",
   "metadata": {},
   "outputs": [
    {
     "data": {
      "text/plain": [
       "True"
      ]
     },
     "execution_count": 2,
     "metadata": {},
     "output_type": "execute_result"
    }
   ],
   "source": [
    "a = '3'\n",
    "c.isnumeric()"
   ]
  },
  {
   "cell_type": "code",
   "execution_count": 3,
   "id": "fe97cffe",
   "metadata": {},
   "outputs": [
    {
     "name": "stdout",
     "output_type": "stream",
     "text": [
      "bukan string\n"
     ]
    }
   ],
   "source": [
    "try:\n",
    "    int('string')\n",
    "except:\n",
    "    print('bukan string')"
   ]
  },
  {
   "cell_type": "code",
   "execution_count": 4,
   "id": "2311a973",
   "metadata": {},
   "outputs": [
    {
     "name": "stdout",
     "output_type": "stream",
     "text": [
      "Requirement already satisfied: numpy in c:\\users\\asus\\anaconda3\\lib\\site-packages (1.21.5)\n"
     ]
    }
   ],
   "source": [
    "# installing numpy\n",
    "!pip install numpy"
   ]
  },
  {
   "cell_type": "code",
   "execution_count": 5,
   "id": "1b00b9c6-913f-4307-abc9-8af8a32a350c",
   "metadata": {},
   "outputs": [],
   "source": [
    "# import numpy\n",
    "import numpy as np"
   ]
  },
  {
   "cell_type": "code",
   "execution_count": 6,
   "id": "1a3d31ae-9534-48d3-8fc3-add3ee240051",
   "metadata": {},
   "outputs": [],
   "source": [
    "# array adalah struktur data central dari perpustkaan NumPy\n",
    "a=np.array([1,2,3])"
   ]
  },
  {
   "cell_type": "code",
   "execution_count": 7,
   "id": "b49b833a-ea94-4436-86c1-3c4208c77e2f",
   "metadata": {},
   "outputs": [
    {
     "name": "stdout",
     "output_type": "stream",
     "text": [
      "[1 2 3]\n"
     ]
    }
   ],
   "source": [
    "print(a)"
   ]
  },
  {
   "cell_type": "code",
   "execution_count": 8,
   "id": "d34d929e-e0fd-4c8e-b37b-1d99d86d4989",
   "metadata": {},
   "outputs": [
    {
     "data": {
      "text/plain": [
       "2"
      ]
     },
     "execution_count": 8,
     "metadata": {},
     "output_type": "execute_result"
    }
   ],
   "source": [
    "a[1]"
   ]
  },
  {
   "cell_type": "markdown",
   "id": "80710ea1",
   "metadata": {},
   "source": [
    "ONE DIMENSIONAL ARRAY"
   ]
  },
  {
   "cell_type": "code",
   "execution_count": 9,
   "id": "576bd696-621d-4e25-b439-5422bbb47a98",
   "metadata": {},
   "outputs": [
    {
     "name": "stdout",
     "output_type": "stream",
     "text": [
      "[1 2 3 4 5 6 7]\n"
     ]
    }
   ],
   "source": [
    "array1 = np.array([1,2,3,4,5])\n",
    "print(np.append(array1,[6,7]))"
   ]
  },
  {
   "cell_type": "code",
   "execution_count": 10,
   "id": "8946f10b-d94c-48a0-9c99-b1d479d65f6e",
   "metadata": {},
   "outputs": [
    {
     "data": {
      "text/plain": [
       "array([3, 4, 5])"
      ]
     },
     "execution_count": 10,
     "metadata": {},
     "output_type": "execute_result"
    }
   ],
   "source": [
    "array1[2:]"
   ]
  },
  {
   "cell_type": "code",
   "execution_count": 11,
   "id": "cd9a2072-0d08-4089-ab65-8fb397c46264",
   "metadata": {},
   "outputs": [
    {
     "data": {
      "text/plain": [
       "(5,)"
      ]
     },
     "execution_count": 11,
     "metadata": {},
     "output_type": "execute_result"
    }
   ],
   "source": [
    "# shape itu baris, kolom\n",
    "array1.shape"
   ]
  },
  {
   "cell_type": "markdown",
   "id": "0ae6de05",
   "metadata": {},
   "source": [
    "2 DIMENSIONAL ARRAY"
   ]
  },
  {
   "cell_type": "code",
   "execution_count": 12,
   "id": "800390e3-3be6-49b9-82f2-1237579d0db2",
   "metadata": {},
   "outputs": [
    {
     "data": {
      "text/plain": [
       "array([[ 1,  2,  3],\n",
       "       [ 4,  5,  6],\n",
       "       [ 7,  8,  9],\n",
       "       [10, 11, 12]])"
      ]
     },
     "execution_count": 12,
     "metadata": {},
     "output_type": "execute_result"
    }
   ],
   "source": [
    "list = [[1,2,3],[4,5,6],[7,8,9],[10,11,12]]\n",
    "aray2 = np.array(list)\n",
    "aray2"
   ]
  },
  {
   "cell_type": "code",
   "execution_count": 13,
   "id": "a0348d85-577e-4968-97ad-02a6c1deaf51",
   "metadata": {},
   "outputs": [
    {
     "name": "stdout",
     "output_type": "stream",
     "text": [
      "(4, 3)\n"
     ]
    }
   ],
   "source": [
    "print(aray2.shape)"
   ]
  },
  {
   "cell_type": "markdown",
   "id": "26e4f153",
   "metadata": {},
   "source": [
    "CREATING ARRAY"
   ]
  },
  {
   "cell_type": "code",
   "execution_count": 14,
   "id": "0eb1dbef-625b-4112-b7e5-f87e0ac43adf",
   "metadata": {},
   "outputs": [
    {
     "name": "stdout",
     "output_type": "stream",
     "text": [
      "[0. 0. 0.]\n"
     ]
    }
   ],
   "source": [
    "# np zeros untuk membuat array dengan isi angka 0\n",
    "print(np.zeros(3)) #1D"
   ]
  },
  {
   "cell_type": "code",
   "execution_count": 15,
   "id": "3892a1b4-59be-4fa6-9e54-ef359063260f",
   "metadata": {},
   "outputs": [
    {
     "name": "stdout",
     "output_type": "stream",
     "text": [
      "[[0. 0.]\n",
      " [0. 0.]\n",
      " [0. 0.]]\n"
     ]
    }
   ],
   "source": [
    "print(np.zeros([3,2])) #2D"
   ]
  },
  {
   "cell_type": "code",
   "execution_count": 16,
   "id": "4c0dc073-7bee-4368-bca0-fc838c224d58",
   "metadata": {},
   "outputs": [
    {
     "name": "stdout",
     "output_type": "stream",
     "text": [
      "[[1. 1.]\n",
      " [1. 1.]]\n"
     ]
    }
   ],
   "source": [
    "# np ones untuk membuat array dengan isi angka 1\n",
    "print(np.ones([2,2]))"
   ]
  },
  {
   "cell_type": "code",
   "execution_count": 17,
   "id": "8a6ef786",
   "metadata": {},
   "outputs": [
    {
     "name": "stdout",
     "output_type": "stream",
     "text": [
      "[1. 1. 1.]\n"
     ]
    }
   ],
   "source": [
    "# np ones \n",
    "print(np.ones(3))"
   ]
  },
  {
   "cell_type": "code",
   "execution_count": 18,
   "id": "66ab7738-c953-4c8c-b911-63807506b224",
   "metadata": {},
   "outputs": [
    {
     "data": {
      "text/plain": [
       "array([0., 0., 0., 0., 0., 0., 0.])"
      ]
     },
     "execution_count": 18,
     "metadata": {},
     "output_type": "execute_result"
    }
   ],
   "source": [
    "# np empty untuk membuat array dengan isi random dan bergantung status memori\n",
    "np.empty(7)"
   ]
  },
  {
   "cell_type": "code",
   "execution_count": 19,
   "id": "d25b443b-9baf-46c9-aa7e-7e2e9683291e",
   "metadata": {},
   "outputs": [
    {
     "data": {
      "text/plain": [
       "array([[0., 0., 0.],\n",
       "       [0., 0., 0.]])"
      ]
     },
     "execution_count": 19,
     "metadata": {},
     "output_type": "execute_result"
    }
   ],
   "source": [
    "np.empty((2,3))"
   ]
  },
  {
   "cell_type": "code",
   "execution_count": 20,
   "id": "c5eb98e6-5f7a-4bad-9683-12ec9aa1b9e2",
   "metadata": {},
   "outputs": [
    {
     "data": {
      "text/plain": [
       "array([0, 1, 2, 3, 4, 5, 6, 7, 8, 9])"
      ]
     },
     "execution_count": 20,
     "metadata": {},
     "output_type": "execute_result"
    }
   ],
   "source": [
    "# np arange untuk membuat array dengan jarak antar elemen\n",
    "np.arange((10))"
   ]
  },
  {
   "cell_type": "code",
   "execution_count": 21,
   "id": "fd4fe4a0-594d-4f5c-86e5-09b78c3c0d0d",
   "metadata": {},
   "outputs": [
    {
     "name": "stdout",
     "output_type": "stream",
     "text": [
      "[0 2]\n"
     ]
    }
   ],
   "source": [
    "print(np.arange(0,4,2)) #start,stop,step. list np mulai dari angka 0 hingga 4 dengan kenaikan 2x untuk setiap loncatan"
   ]
  },
  {
   "cell_type": "code",
   "execution_count": 22,
   "id": "a56b5048-28a2-403b-9ce4-8608026bee79",
   "metadata": {},
   "outputs": [
    {
     "data": {
      "text/plain": [
       "(4,)"
      ]
     },
     "execution_count": 22,
     "metadata": {},
     "output_type": "execute_result"
    }
   ],
   "source": [
    "aray3 = np.array(((1,2,3,4)))\n",
    "aray3.shape"
   ]
  },
  {
   "cell_type": "code",
   "execution_count": 23,
   "id": "043de7d9-82fa-4b3a-a61c-a8bb004bbc49",
   "metadata": {},
   "outputs": [
    {
     "data": {
      "text/plain": [
       "(1, 4)"
      ]
     },
     "execution_count": 23,
     "metadata": {},
     "output_type": "execute_result"
    }
   ],
   "source": [
    "aray4 = np.array([[1,2,3,4]])\n",
    "aray4.shape\n",
    "# kalo kurung siku 1 brti ada 1 baris, kurung siku 2 ada 2 baris"
   ]
  },
  {
   "cell_type": "code",
   "execution_count": 24,
   "id": "99f66a32-8b06-411a-bf84-ec1703175ab8",
   "metadata": {},
   "outputs": [
    {
     "data": {
      "text/plain": [
       "(1, 1, 3)"
      ]
     },
     "execution_count": 24,
     "metadata": {},
     "output_type": "execute_result"
    }
   ],
   "source": [
    "aray5 = np.array([[[1,2,3]]])\n",
    "aray5.shape"
   ]
  },
  {
   "cell_type": "code",
   "execution_count": 25,
   "id": "3c283755-f562-48a0-a6d1-1c6e80fd4af4",
   "metadata": {},
   "outputs": [
    {
     "name": "stdout",
     "output_type": "stream",
     "text": [
      "how tall ? 8\n",
      "*******\n",
      " *****\n",
      "  ***\n",
      "   *\n",
      "  ***\n",
      " *****\n",
      "*******\n"
     ]
    }
   ],
   "source": [
    "# quiz\n",
    "\n",
    "n=int(input('how tall ? '))\n",
    "t=0\n",
    "\n",
    "if n%2==0:\n",
    "   t=n-1\n",
    "else:\n",
    "   t=n\n",
    "\n",
    "for i in range(0,t):\n",
    "   if (t-2*i)>0: \n",
    "      print(' '*i+'*'*(t-2*i))\n",
    "   else:\n",
    "      k=t-i-1\n",
    "      print(' '*k+'*'*(t-2*k))"
   ]
  },
  {
   "cell_type": "code",
   "execution_count": 26,
   "id": "44ac1fd0",
   "metadata": {},
   "outputs": [
    {
     "name": "stdout",
     "output_type": "stream",
     "text": [
      "[1 2 3 4 5 6 7]\n",
      "[1 2 4 5]\n",
      "[1 2 3 4 5]\n"
     ]
    }
   ],
   "source": [
    "x = np.array([1,2,3,4,5])\n",
    "\n",
    "#append untuk menambahkan elemen ke array \n",
    "print(np.append(x,[6,7]))\n",
    "#delete untuk menghapus elemen di array\n",
    "print(np.delete(x,2))\n",
    "#sort untuk menentukan axis, jenis, dan urutan saat memanggl fungsi\n",
    "print(np.sort(x))"
   ]
  },
  {
   "cell_type": "markdown",
   "id": "80c560a2",
   "metadata": {},
   "source": [
    "SHAPE AND SIZE"
   ]
  },
  {
   "cell_type": "code",
   "execution_count": 27,
   "id": "daf651a9",
   "metadata": {},
   "outputs": [
    {
     "name": "stdout",
     "output_type": "stream",
     "text": [
      "1\n",
      "2\n",
      "13\n",
      "9\n",
      "[[1 2 3 4]\n",
      " [3 2 1 5]\n",
      " [6 7 8 9]]\n"
     ]
    }
   ],
   "source": [
    "x = np.array([1,2,3,4,3,2,1,5,6,7,8,9,10])\n",
    "y = np.zeros((3,3))\n",
    "#ndim untuk memberi tahu jumlah axes atau dimensi dari array\n",
    "print(x.ndim)\n",
    "print(y.ndim)\n",
    "\n",
    "#size untuk memberti tahu jumlah total elemen array\n",
    "print(x.size)\n",
    "print(y.size)\n",
    "\n",
    "#reshape untuk memberikan bentuk baru ke array tanpa mengubah datanya\n",
    "print(x[:-1].reshape(3,4))"
   ]
  },
  {
   "cell_type": "code",
   "execution_count": 28,
   "id": "557f9ad4",
   "metadata": {},
   "outputs": [
    {
     "name": "stdout",
     "output_type": "stream",
     "text": [
      "(1, 4)\n",
      "[[1 2 3 4]]\n"
     ]
    }
   ],
   "source": [
    "# np.newaxis untuk menambah axis\n",
    "a = np.array([1,2,3,4])\n",
    "a.shape\n",
    "\n",
    "a2 = a[np.newaxis]\n",
    "print(a2.shape)\n",
    "print(a2)"
   ]
  },
  {
   "cell_type": "code",
   "execution_count": 29,
   "id": "ba3bfef9",
   "metadata": {},
   "outputs": [
    {
     "name": "stdout",
     "output_type": "stream",
     "text": [
      "(1, 4)\n",
      "[[1 2 3 4]]\n"
     ]
    }
   ],
   "source": [
    "# convert 1D ke 2D \n",
    "row_vector = a[np.newaxis, :]\n",
    "print(row_vector.shape)\n",
    "print(row_vector)"
   ]
  },
  {
   "cell_type": "code",
   "execution_count": 30,
   "id": "b5fdb7e2",
   "metadata": {},
   "outputs": [
    {
     "name": "stdout",
     "output_type": "stream",
     "text": [
      "(4, 1)\n",
      "[[1]\n",
      " [2]\n",
      " [3]\n",
      " [4]]\n"
     ]
    }
   ],
   "source": [
    "col_vector = a[:, np.newaxis]\n",
    "print(col_vector.shape)\n",
    "print(col_vector)"
   ]
  },
  {
   "cell_type": "markdown",
   "id": "d794b3d2",
   "metadata": {},
   "source": [
    "INDEXING & SLICING"
   ]
  },
  {
   "cell_type": "code",
   "execution_count": 31,
   "id": "4a1861ad",
   "metadata": {},
   "outputs": [
    {
     "name": "stdout",
     "output_type": "stream",
     "text": [
      "[1 2 3]\n",
      "1\n",
      "2\n",
      "3\n",
      "[2 3]\n",
      "[3]\n",
      "[2 3]\n"
     ]
    }
   ],
   "source": [
    "b = np.array([1,2,3])\n",
    "print(b)\n",
    "print(b[0])\n",
    "print(b[1])\n",
    "print(b[2])\n",
    "print(b[1:])\n",
    "print(b[-1:])\n",
    "print(b[b>=2])"
   ]
  },
  {
   "cell_type": "code",
   "execution_count": 32,
   "id": "28dd183a",
   "metadata": {},
   "outputs": [
    {
     "name": "stdout",
     "output_type": "stream",
     "text": [
      "[2 4]\n"
     ]
    }
   ],
   "source": [
    "divisible_by_2 = a[a%2==0]\n",
    "print(divisible_by_2)"
   ]
  },
  {
   "cell_type": "code",
   "execution_count": 33,
   "id": "309bf67e",
   "metadata": {},
   "outputs": [
    {
     "name": "stdout",
     "output_type": "stream",
     "text": [
      "[2]\n"
     ]
    }
   ],
   "source": [
    "c = a[(a>1) & (a<3)]\n",
    "print(c)"
   ]
  },
  {
   "cell_type": "code",
   "execution_count": 34,
   "id": "1af6f93a",
   "metadata": {},
   "outputs": [
    {
     "name": "stdout",
     "output_type": "stream",
     "text": [
      "[[1 2 3 4 5 6 7 8]]\n"
     ]
    }
   ],
   "source": [
    "array3 = np.array([[1,2,3,4]])\n",
    "array4 = np.array([[5,6,7,8]])\n",
    "np.vstack([array3,array4]) #menumpuk array secara vertikal\n",
    "print(np.hstack([array3,array4]))"
   ]
  },
  {
   "cell_type": "code",
   "execution_count": 35,
   "id": "91a009fd",
   "metadata": {},
   "outputs": [
    {
     "data": {
      "text/plain": [
       "array([1, 2, 3, 4, 5, 6, 7, 8])"
      ]
     },
     "execution_count": 35,
     "metadata": {},
     "output_type": "execute_result"
    }
   ],
   "source": [
    "array5 = np.array([1,2,3,4])\n",
    "array6 = np.array([5,6,7,8])\n",
    "np.hstack([array5,array6]) #menumpuk array secara horizontal"
   ]
  },
  {
   "cell_type": "code",
   "execution_count": 36,
   "id": "57b72b60",
   "metadata": {},
   "outputs": [
    {
     "name": "stdout",
     "output_type": "stream",
     "text": [
      "Stack secara Vertikal\n",
      "[[ 3  4  5  6  7]\n",
      " [ 7  8  9 10 11]]\n",
      "Stack secara Horizontal\n",
      "[ 3  4  5  6  7  7  8  9 10 11]\n"
     ]
    }
   ],
   "source": [
    "#stack\n",
    "array1 = np.array([3,4,5,6,7])\n",
    "array2 = np.array([7,8,9,10,11])\n",
    "print('Stack secara Vertikal')\n",
    "print(np.vstack([array1,array2]))\n",
    "print('Stack secara Horizontal')\n",
    "print(np.hstack([array1,array2]))"
   ]
  },
  {
   "cell_type": "code",
   "execution_count": 37,
   "id": "abf4390c",
   "metadata": {},
   "outputs": [
    {
     "data": {
      "text/plain": [
       "[array([3, 4, 5]), array([6, 7, 8])]"
      ]
     },
     "execution_count": 37,
     "metadata": {},
     "output_type": "execute_result"
    }
   ],
   "source": [
    "#hsplit\n",
    "array3 = np.array([3,4,5,6,7,8])\n",
    "arraysplit = np.hsplit(array3,2)\n",
    "(arraysplit)"
   ]
  },
  {
   "cell_type": "code",
   "execution_count": 38,
   "id": "f3873941",
   "metadata": {},
   "outputs": [
    {
     "name": "stdout",
     "output_type": "stream",
     "text": [
      "(2, 4)\n",
      "Horizontal Split\n",
      "[array([[11, 21],\n",
      "       [41, 51]]), array([[31, 41],\n",
      "       [61, 71]])]\n",
      "Vertical Split\n",
      "[array([[11, 21, 31, 41]]), array([[41, 51, 61, 71]])]\n"
     ]
    }
   ],
   "source": [
    "#vsplit\n",
    "array4 = np.array([[11,21,31,41],[41,51,61,71]])\n",
    "print(array4.shape)\n",
    "print('Horizontal Split')\n",
    "print(np.hsplit(array4,2))\n",
    "print('Vertical Split')\n",
    "print(np.vsplit(array4,2))"
   ]
  },
  {
   "cell_type": "code",
   "execution_count": 39,
   "id": "5f1469c5",
   "metadata": {},
   "outputs": [
    {
     "data": {
      "text/plain": [
       "array([ 3,  4,  5,  6,  7,  8, 11, 12, 13, 14])"
      ]
     },
     "execution_count": 39,
     "metadata": {},
     "output_type": "execute_result"
    }
   ],
   "source": [
    "np.append(array3,[11,12,13,14])"
   ]
  },
  {
   "cell_type": "code",
   "execution_count": 40,
   "id": "f6b5cec3",
   "metadata": {},
   "outputs": [
    {
     "data": {
      "text/plain": [
       "array([1, 2, 3, 4])"
      ]
     },
     "execution_count": 40,
     "metadata": {},
     "output_type": "execute_result"
    }
   ],
   "source": [
    "b = a.view()\n",
    "b"
   ]
  },
  {
   "cell_type": "code",
   "execution_count": 41,
   "id": "f5861fdd",
   "metadata": {},
   "outputs": [
    {
     "data": {
      "text/plain": [
       "<function ndarray.copy>"
      ]
     },
     "execution_count": 41,
     "metadata": {},
     "output_type": "execute_result"
    }
   ],
   "source": [
    "c = a.copy\n",
    "c"
   ]
  },
  {
   "cell_type": "code",
   "execution_count": 42,
   "id": "7b34f20e",
   "metadata": {},
   "outputs": [
    {
     "name": "stdout",
     "output_type": "stream",
     "text": [
      "(3, 1)\n"
     ]
    }
   ],
   "source": [
    "#np.newaxis\n",
    "array7 = np.array([21,22,23])\n",
    "array7[np.newaxis]\n",
    "print(array7[:,np.newaxis].shape)"
   ]
  },
  {
   "cell_type": "code",
   "execution_count": 43,
   "id": "4d868135",
   "metadata": {},
   "outputs": [
    {
     "name": "stdout",
     "output_type": "stream",
     "text": [
      "[[23]\n",
      " [24]\n",
      " [25]\n",
      " [26]\n",
      " [27]\n",
      " [28]\n",
      " [29]]\n",
      "(7, 1)\n",
      "[[23 24 25 26 27 28 29]]\n",
      "(1, 7)\n"
     ]
    }
   ],
   "source": [
    "#np.expand_dims\n",
    "array8 = np.array([23,24,25,26,27,28,29])\n",
    "array9 = np.expand_dims(array8,axis=1)\n",
    "array10 = np.expand_dims(array8,axis=0)\n",
    "print(array9)\n",
    "print(array9.shape)\n",
    "print(array10)\n",
    "print(array10.shape)"
   ]
  },
  {
   "cell_type": "markdown",
   "id": "4ab4790b",
   "metadata": {},
   "source": [
    "OPERASI MATEMATIKA PADA ARRAY"
   ]
  },
  {
   "cell_type": "code",
   "execution_count": 44,
   "id": "2752d39e",
   "metadata": {},
   "outputs": [
    {
     "data": {
      "text/plain": [
       "array([2, 4, 6])"
      ]
     },
     "execution_count": 44,
     "metadata": {},
     "output_type": "execute_result"
    }
   ],
   "source": [
    "array = np.array([1,2,3])\n",
    "array*2"
   ]
  },
  {
   "cell_type": "code",
   "execution_count": 45,
   "id": "a1399d6f",
   "metadata": {},
   "outputs": [
    {
     "data": {
      "text/plain": [
       "array([[ 6,  7,  8],\n",
       "       [ 9, 10, 11]])"
      ]
     },
     "execution_count": 45,
     "metadata": {},
     "output_type": "execute_result"
    }
   ],
   "source": [
    "array1 = np.array([[10,11,12],[13,14,15]])\n",
    "array1-4"
   ]
  },
  {
   "cell_type": "code",
   "execution_count": 46,
   "id": "221a95e2",
   "metadata": {},
   "outputs": [
    {
     "data": {
      "text/plain": [
       "array([[5. , 5.5, 6. ],\n",
       "       [6.5, 7. , 7.5]])"
      ]
     },
     "execution_count": 46,
     "metadata": {},
     "output_type": "execute_result"
    }
   ],
   "source": [
    "array1/2"
   ]
  },
  {
   "cell_type": "code",
   "execution_count": 47,
   "id": "1369f5f4",
   "metadata": {},
   "outputs": [
    {
     "data": {
      "text/plain": [
       "array([33, 42])"
      ]
     },
     "execution_count": 47,
     "metadata": {},
     "output_type": "execute_result"
    }
   ],
   "source": [
    "# menjumlahkan kolom array1 dengan yang beraxis 1\n",
    "array1.sum(axis=1)"
   ]
  },
  {
   "cell_type": "code",
   "execution_count": 48,
   "id": "111f0ae1",
   "metadata": {},
   "outputs": [
    {
     "data": {
      "text/plain": [
       "array([23, 25, 27])"
      ]
     },
     "execution_count": 48,
     "metadata": {},
     "output_type": "execute_result"
    }
   ],
   "source": [
    "# menjumlahkan baris array1 dengan yang beraxis 0\n",
    "array1.sum(axis=0)"
   ]
  },
  {
   "cell_type": "code",
   "execution_count": 49,
   "id": "94d00190",
   "metadata": {},
   "outputs": [
    {
     "data": {
      "text/plain": [
       "30"
      ]
     },
     "execution_count": 49,
     "metadata": {},
     "output_type": "execute_result"
    }
   ],
   "source": [
    "np.dot(a,b)"
   ]
  },
  {
   "cell_type": "markdown",
   "id": "c8f36d78",
   "metadata": {},
   "source": [
    "FILTERING ARRAY"
   ]
  },
  {
   "cell_type": "code",
   "execution_count": 50,
   "id": "a2e5ac82",
   "metadata": {},
   "outputs": [
    {
     "name": "stdout",
     "output_type": "stream",
     "text": [
      "[200 300 400 500]\n",
      "[400]\n",
      "[100 200 300 400 500]\n"
     ]
    }
   ],
   "source": [
    "array2 = np.array([100,200,300,400,500])\n",
    "print(array2[array2>100])\n",
    "print(array2[array2==400])\n",
    "print(array2[array2<=800])"
   ]
  },
  {
   "cell_type": "code",
   "execution_count": 51,
   "id": "86809629",
   "metadata": {},
   "outputs": [
    {
     "name": "stdout",
     "output_type": "stream",
     "text": [
      "[7 9]\n"
     ]
    }
   ],
   "source": [
    "array3 = np.array([[1,3,5],[5,7,9],[-1,-2,-3]])\n",
    "array3.shape\n",
    "print(array3[array3>5])"
   ]
  },
  {
   "cell_type": "code",
   "execution_count": 52,
   "id": "776b477d",
   "metadata": {},
   "outputs": [
    {
     "name": "stdout",
     "output_type": "stream",
     "text": [
      "aku mau \n",
      " nasi \n",
      " 11\n"
     ]
    }
   ],
   "source": [
    "print('aku mau \\n nasi \\n 11')"
   ]
  },
  {
   "cell_type": "markdown",
   "id": "b0ea76a3",
   "metadata": {},
   "source": [
    "OPERASI ARITMETIK ANTAR 2 ARRAY"
   ]
  },
  {
   "cell_type": "code",
   "execution_count": 53,
   "id": "30faa686",
   "metadata": {},
   "outputs": [
    {
     "name": "stdout",
     "output_type": "stream",
     "text": [
      "[4 6 8]\n"
     ]
    }
   ],
   "source": [
    "array_a = np.array([1,2,3])\n",
    "array_b = np.array([3,4,5])\n",
    "print(array_a+array_b)"
   ]
  },
  {
   "cell_type": "code",
   "execution_count": 54,
   "id": "a22d0a02",
   "metadata": {},
   "outputs": [
    {
     "name": "stdout",
     "output_type": "stream",
     "text": [
      "[[-5 -5 -5]\n",
      " [-5 -5 -5]]\n"
     ]
    }
   ],
   "source": [
    "array_c = np.array([[1,2,3],[4,5,6]])\n",
    "array_d = np.array([[6,7,8],[9,10,11]])\n",
    "print(array_c-array_d)"
   ]
  },
  {
   "cell_type": "code",
   "execution_count": 55,
   "id": "01552310",
   "metadata": {},
   "outputs": [
    {
     "name": "stdout",
     "output_type": "stream",
     "text": [
      "6\n",
      "21\n",
      "[5 7 9]\n"
     ]
    }
   ],
   "source": [
    "array_a = np.array([1,2,3])\n",
    "array_b = np.array([3,4,5])\n",
    "array_c = np.array([[1,2,3],[4,5,6]])\n",
    "array_d = np.array([[6,7,8],[9,10,11]])\n",
    "print(array_a.sum())\n",
    "print(array_c.sum())\n",
    "print(array_c.sum(axis=0))"
   ]
  },
  {
   "cell_type": "code",
   "execution_count": 56,
   "id": "fb1c0bdf",
   "metadata": {},
   "outputs": [
    {
     "name": "stdout",
     "output_type": "stream",
     "text": [
      "[[1 2 3]\n",
      " [4 5 6]]\n",
      "[5 7 9]\n",
      "[ 6 15]\n"
     ]
    }
   ],
   "source": [
    "array_c = np.array([[1,2,3],[4,5,6]])\n",
    "print(array_c)\n",
    "print(array_c.sum(axis=0))\n",
    "print(array_c.sum(axis=1))"
   ]
  },
  {
   "cell_type": "code",
   "execution_count": 57,
   "id": "2dec054e",
   "metadata": {},
   "outputs": [
    {
     "name": "stdout",
     "output_type": "stream",
     "text": [
      "3\n",
      "6\n",
      "[[5 2 3]\n",
      " [4 5 6]]\n",
      "[5 5 6]\n",
      "[4 2 3]\n"
     ]
    }
   ],
   "source": [
    "array_a = np.array([1,2,3])\n",
    "array_b = np.array([3,4,5])\n",
    "array_c = np.array([[5,2,3],[4,5,6]])\n",
    "print(array_a.max())\n",
    "print(array_c.max())\n",
    "print(array_c)\n",
    "print(array_c.max(axis=0))\n",
    "print(array_c.min(axis=0))"
   ]
  },
  {
   "cell_type": "markdown",
   "id": "4f6be316",
   "metadata": {},
   "source": [
    "TRANSPOSING \n",
    "\n",
    "merubah baris jadi kolom, kolom menjadi baris"
   ]
  },
  {
   "cell_type": "code",
   "execution_count": 58,
   "id": "43fe665d",
   "metadata": {},
   "outputs": [
    {
     "name": "stdout",
     "output_type": "stream",
     "text": [
      "[[5 2 3]\n",
      " [4 5 6]]\n",
      "(2, 3)\n"
     ]
    }
   ],
   "source": [
    "arrayx = np.array([[5,2,3],[4,5,6]])\n",
    "print(arrayx)\n",
    "print(arrayx.shape)"
   ]
  },
  {
   "cell_type": "code",
   "execution_count": 59,
   "id": "0ef1a389",
   "metadata": {},
   "outputs": [
    {
     "name": "stdout",
     "output_type": "stream",
     "text": [
      "[[5 4]\n",
      " [2 5]\n",
      " [3 6]]\n",
      "(3, 2)\n"
     ]
    }
   ],
   "source": [
    "print(arrayx.T)\n",
    "print(arrayx.T.shape)"
   ]
  },
  {
   "cell_type": "code",
   "execution_count": 60,
   "id": "a579cfe1",
   "metadata": {},
   "outputs": [
    {
     "name": "stdout",
     "output_type": "stream",
     "text": [
      "[[ 1  2  3  4  5]\n",
      " [ 4  5  6  7  8]\n",
      " [ 7  8  9 10 11]]\n",
      "(3, 5)\n"
     ]
    }
   ],
   "source": [
    "arrayd = np.array([[1,2,3,4,5],[4,5,6,7,8],[7,8,9,10,11]])\n",
    "print(arrayd)\n",
    "print(arrayd.shape)"
   ]
  },
  {
   "cell_type": "code",
   "execution_count": 61,
   "id": "c3aefe81",
   "metadata": {},
   "outputs": [
    {
     "name": "stdout",
     "output_type": "stream",
     "text": [
      "[[ 1  4  7]\n",
      " [ 2  5  8]\n",
      " [ 3  6  9]\n",
      " [ 4  7 10]\n",
      " [ 5  8 11]]\n",
      "(5, 3)\n"
     ]
    }
   ],
   "source": [
    "print(arrayd.T)\n",
    "print(arrayd.T.shape)"
   ]
  },
  {
   "cell_type": "code",
   "execution_count": 62,
   "id": "6bd160e8",
   "metadata": {},
   "outputs": [
    {
     "name": "stdout",
     "output_type": "stream",
     "text": [
      "[[31.89231944 78.86036753  4.02048135 47.7639335  37.48565362]\n",
      " [15.77355552 77.60859146 29.39749273 26.11965664 96.57416762]\n",
      " [99.16617273 90.72352247 50.52011749 25.06891385 30.142528  ]]\n"
     ]
    }
   ],
   "source": [
    "array_random = np.random.random([3,5])*100\n",
    "print(array_random)"
   ]
  },
  {
   "cell_type": "code",
   "execution_count": 63,
   "id": "97fda99c",
   "metadata": {},
   "outputs": [
    {
     "name": "stdout",
     "output_type": "stream",
     "text": [
      "[[[50.95692796 28.54892127]]\n",
      "\n",
      " [[62.26044597  4.58241408]]\n",
      "\n",
      " [[39.42112093 53.84322056]]]\n",
      "[50.95692796 28.54892127 62.26044597  4.58241408 39.42112093 53.84322056]\n"
     ]
    }
   ],
   "source": [
    "array_random = np.random.random([3,1,2])*100\n",
    "print(array_random)\n",
    "print(array_random.flatten())"
   ]
  },
  {
   "cell_type": "markdown",
   "id": "0452f413",
   "metadata": {},
   "source": [
    "NUMPY MATH FORMULAS"
   ]
  },
  {
   "cell_type": "code",
   "execution_count": 64,
   "id": "7189ed75",
   "metadata": {},
   "outputs": [
    {
     "name": "stdout",
     "output_type": "stream",
     "text": [
      "[[6.5250762  5.27233781]]\n"
     ]
    },
    {
     "data": {
      "text/plain": [
       "11.797414009972295"
      ]
     },
     "execution_count": 64,
     "metadata": {},
     "output_type": "execute_result"
    }
   ],
   "source": [
    "array_random = np.random.random([1,2])*10\n",
    "print(array_random)\n",
    "np.sum(array_random)"
   ]
  },
  {
   "cell_type": "code",
   "execution_count": 65,
   "id": "2b2b583e",
   "metadata": {},
   "outputs": [
    {
     "data": {
      "text/plain": [
       "3364"
      ]
     },
     "execution_count": 65,
     "metadata": {},
     "output_type": "execute_result"
    }
   ],
   "source": [
    "np.square(58)"
   ]
  },
  {
   "cell_type": "code",
   "execution_count": 66,
   "id": "fd31be73",
   "metadata": {},
   "outputs": [
    {
     "data": {
      "text/plain": [
       "3.0"
      ]
     },
     "execution_count": 66,
     "metadata": {},
     "output_type": "execute_result"
    }
   ],
   "source": [
    "np.sqrt(9)"
   ]
  },
  {
   "cell_type": "code",
   "execution_count": 67,
   "id": "73a29f77",
   "metadata": {},
   "outputs": [
    {
     "name": "stdout",
     "output_type": "stream",
     "text": [
      "4.605170185988092\n"
     ]
    }
   ],
   "source": [
    "a = np.log(100)\n",
    "print(a)"
   ]
  },
  {
   "cell_type": "code",
   "execution_count": 68,
   "id": "c34df68a",
   "metadata": {},
   "outputs": [
    {
     "data": {
      "text/plain": [
       "100.00000000000004"
      ]
     },
     "execution_count": 68,
     "metadata": {},
     "output_type": "execute_result"
    }
   ],
   "source": [
    "np.exp(a)"
   ]
  },
  {
   "cell_type": "code",
   "execution_count": 69,
   "id": "f3fd2c59",
   "metadata": {},
   "outputs": [
    {
     "name": "stdout",
     "output_type": "stream",
     "text": [
      "Please, Enter the Lowest Range Value: 1\n",
      "Please, Enter the Upper Range Value: 20\n",
      "The Prime Numbers in the range are: \n",
      "2\n",
      "3\n",
      "5\n",
      "7\n",
      "11\n",
      "13\n",
      "17\n",
      "19\n"
     ]
    }
   ],
   "source": [
    "# quiz bilangan prima\n",
    "\n",
    "# First, we will take the input:  \n",
    "lower_value = int(input (\"Please, Enter the Lowest Range Value: \"))  \n",
    "upper_value = int(input (\"Please, Enter the Upper Range Value: \"))  \n",
    "  \n",
    "print (\"The Prime Numbers in the range are: \")  \n",
    "for number in range (lower_value, upper_value + 1):  \n",
    "    if number > 1:  \n",
    "        for i in range (2, number):  \n",
    "            if (number % i) == 0:  \n",
    "                break  \n",
    "        else:  \n",
    "            print (number)  "
   ]
  }
 ],
 "metadata": {
  "kernelspec": {
   "display_name": "Python 3 (ipykernel)",
   "language": "python",
   "name": "python3"
  },
  "language_info": {
   "codemirror_mode": {
    "name": "ipython",
    "version": 3
   },
   "file_extension": ".py",
   "mimetype": "text/x-python",
   "name": "python",
   "nbconvert_exporter": "python",
   "pygments_lexer": "ipython3",
   "version": "3.9.13"
  }
 },
 "nbformat": 4,
 "nbformat_minor": 5
}
